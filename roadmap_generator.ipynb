{
 "cells": [
  {
   "cell_type": "code",
   "execution_count": 1,
   "id": "e0df2038-7efa-42b3-8bd3-14a85e15bc70",
   "metadata": {},
   "outputs": [],
   "source": [
    "import json\n",
    "import pandas as pd\n",
    "from pydantic import BaseModel"
   ]
  },
  {
   "cell_type": "markdown",
   "id": "56a1bd66-12a4-48f6-bdde-8843d1705bb6",
   "metadata": {},
   "source": [
    "# DEFINING THE USER INPUT"
   ]
  },
  {
   "cell_type": "code",
   "execution_count": 4,
   "id": "18b0276d-4692-4b02-afd6-945bcbeda926",
   "metadata": {},
   "outputs": [],
   "source": [
    "class UserInput(BaseModel):\n",
    "    goal: str\n",
    "    duration_months: int\n",
    "    experience_level: str"
   ]
  },
  {
   "cell_type": "code",
   "execution_count": 8,
   "id": "9841991a-f15c-4ec9-85c3-889682bd1337",
   "metadata": {},
   "outputs": [
    {
     "name": "stdout",
     "output_type": "stream",
     "text": [
      "goal='Data Science' duration_months=3 experience_level='beginner'\n"
     ]
    }
   ],
   "source": [
    "# EXAMPLE INPUT\n",
    "user = UserInput(goal=\"Data Science\",duration_months=3,experience_level=\"beginner\")\n",
    "print(user)"
   ]
  },
  {
   "cell_type": "markdown",
   "id": "e55c0e46-0bd1-4621-85b8-976b77b76117",
   "metadata": {},
   "source": [
    "## FEEDING KNOWLEDGE MAPPING"
   ]
  },
  {
   "cell_type": "code",
   "execution_count": 13,
   "id": "91c853fb-e4cc-416e-a2b5-0e9e4658bc37",
   "metadata": {},
   "outputs": [
    {
     "name": "stdout",
     "output_type": "stream",
     "text": [
      "Available goals:  ['Data Science', 'Web Development']\n"
     ]
    }
   ],
   "source": [
    "with open(\"data/roadmap_data.json\", \"r\") as f:\n",
    "    roadmap_data = json.load(f)\n",
    "\n",
    "print(\"Available goals: \", list(roadmap_data.keys()))"
   ]
  },
  {
   "cell_type": "code",
   "execution_count": 21,
   "id": "3812d609-61eb-4d80-9a96-9ab61e668627",
   "metadata": {},
   "outputs": [
    {
     "data": {
      "text/html": [
       "<div>\n",
       "<style scoped>\n",
       "    .dataframe tbody tr th:only-of-type {\n",
       "        vertical-align: middle;\n",
       "    }\n",
       "\n",
       "    .dataframe tbody tr th {\n",
       "        vertical-align: top;\n",
       "    }\n",
       "\n",
       "    .dataframe thead th {\n",
       "        text-align: right;\n",
       "    }\n",
       "</style>\n",
       "<table border=\"1\" class=\"dataframe\">\n",
       "  <thead>\n",
       "    <tr style=\"text-align: right;\">\n",
       "      <th></th>\n",
       "      <th>beginner</th>\n",
       "      <th>intermediate</th>\n",
       "      <th>advanced</th>\n",
       "    </tr>\n",
       "  </thead>\n",
       "  <tbody>\n",
       "    <tr>\n",
       "      <th>0</th>\n",
       "      <td>Python Basics</td>\n",
       "      <td>Advanced Machine Learning</td>\n",
       "      <td>Deep Learning</td>\n",
       "    </tr>\n",
       "    <tr>\n",
       "      <th>1</th>\n",
       "      <td>Numpy &amp; Pandas</td>\n",
       "      <td>Feature Engineering</td>\n",
       "      <td>Natural Language Processing</td>\n",
       "    </tr>\n",
       "    <tr>\n",
       "      <th>2</th>\n",
       "      <td>Data Visualization</td>\n",
       "      <td>Model Deployment</td>\n",
       "      <td>Big Data Tools</td>\n",
       "    </tr>\n",
       "    <tr>\n",
       "      <th>3</th>\n",
       "      <td>Statistics Fundamentals</td>\n",
       "      <td>Capstone Project</td>\n",
       "      <td>Research Projects</td>\n",
       "    </tr>\n",
       "    <tr>\n",
       "      <th>4</th>\n",
       "      <td>Intro to Machine Learning</td>\n",
       "      <td></td>\n",
       "      <td></td>\n",
       "    </tr>\n",
       "    <tr>\n",
       "      <th>5</th>\n",
       "      <td>Projects</td>\n",
       "      <td></td>\n",
       "      <td></td>\n",
       "    </tr>\n",
       "  </tbody>\n",
       "</table>\n",
       "</div>"
      ],
      "text/plain": [
       "                    beginner               intermediate  \\\n",
       "0              Python Basics  Advanced Machine Learning   \n",
       "1             Numpy & Pandas        Feature Engineering   \n",
       "2         Data Visualization           Model Deployment   \n",
       "3    Statistics Fundamentals           Capstone Project   \n",
       "4  Intro to Machine Learning                              \n",
       "5                   Projects                              \n",
       "\n",
       "                      advanced  \n",
       "0                Deep Learning  \n",
       "1  Natural Language Processing  \n",
       "2               Big Data Tools  \n",
       "3            Research Projects  \n",
       "4                               \n",
       "5                               "
      ]
     },
     "execution_count": 21,
     "metadata": {},
     "output_type": "execute_result"
    }
   ],
   "source": [
    "def display_goal(goal):\n",
    "    levels = roadmap_data[goal]\n",
    "    max_len = max(len(mods) for mods in levels.values())\n",
    "\n",
    "    padded_levels = {lvl: mods + [\" \"]*(max_len - len(mods)) for lvl, mods in levels.items()} \n",
    "    # padding the levels which have less number of items than the maximum\n",
    "\n",
    "    df = pd.DataFrame(padded_levels)\n",
    "    return df\n",
    "\n",
    "display_goal(\"Data Science\")"
   ]
  },
  {
   "cell_type": "markdown",
   "id": "5f7c86e0-49e5-4e8c-a46e-4ac32bad16d9",
   "metadata": {},
   "source": [
    "# USER MENU"
   ]
  },
  {
   "cell_type": "code",
   "execution_count": 24,
   "id": "c336beee-e60f-4141-a235-67c2819568c0",
   "metadata": {},
   "outputs": [
    {
     "name": "stdout",
     "output_type": "stream",
     "text": [
      "Available goals and levels:\n",
      "\n",
      "Data Science\n",
      "   Levels: beginner, intermediate, advanced\n",
      "\n",
      "Web Development\n",
      "   Levels: beginner, intermediate, advanced\n",
      "\n"
     ]
    }
   ],
   "source": [
    "def list_available_goals():\n",
    "    print(\"Available goals and levels:\\n\")\n",
    "    for goal,levels in roadmap_data.items():\n",
    "        print(f\"{goal}\")\n",
    "        print(f\"   Levels: {', '.join(levels.keys())}\\n\")\n",
    "\n",
    "list_available_goals()"
   ]
  },
  {
   "cell_type": "code",
   "execution_count": 26,
   "id": "18258087-deab-4a0b-99c0-19d020acb488",
   "metadata": {},
   "outputs": [],
   "source": [
    "#LOADING THE TASKS AND RESOURCES MAPS "
   ]
  },
  {
   "cell_type": "code",
   "execution_count": 34,
   "id": "2fa5029d-f413-4fe0-ba02-7ad6a14bab29",
   "metadata": {},
   "outputs": [],
   "source": [
    "def print_module_plan(goal, level, module):\n",
    "    plan = get_module_plan(goal, level, module)\n",
    "    print(f\" Module: {module}\\n\")\n",
    "    \n",
    "    print(\"Tasks:\")\n",
    "    for i, task in enumerate(plan[\"tasks\"], start=1):\n",
    "        print(f\"   {i}. {task}\")\n",
    "    \n",
    "    print(\"\\nSuggested Resources:\")\n",
    "    for r in plan[\"suggested_resources\"]:\n",
    "        print(f\"   - {r}\")"
   ]
  },
  {
   "cell_type": "code",
   "execution_count": 36,
   "id": "b8e4ae96-51a2-4050-9db4-75eb72d3ac29",
   "metadata": {},
   "outputs": [
    {
     "name": "stdout",
     "output_type": "stream",
     "text": [
      " Module: Numpy & Pandas\n",
      "\n",
      "Tasks:\n",
      "   1. Create/reshape arrays; vectorized ops; broadcasting\n",
      "   2. Load CSVs; select/filter/sort; add/drop columns\n",
      "   3. GroupBy, merge/join, pivot, handling missing values\n",
      "   4. Mini exercise: clean a messy dataset end-to-end\n",
      "\n",
      "Suggested Resources:\n",
      "   - Kaggle: Pandas Course\n",
      "   - NumPy User Guide (Basics)\n",
      "   - Pandas Getting Started\n",
      "   - https://www.youtube.com/watch?v=vmEHCJofslg\n"
     ]
    }
   ],
   "source": [
    "print_module_plan(\"Data Science\", \"beginner\", \"Numpy & Pandas\")"
   ]
  },
  {
   "cell_type": "markdown",
   "id": "9185217d-df52-428a-b500-e469bf0fd901",
   "metadata": {},
   "source": [
    "# GENERATING TIMELINE WITH MILESTONES"
   ]
  },
  {
   "cell_type": "code",
   "execution_count": 43,
   "id": "2bb71c21-af47-426a-a6f6-ca3f8957350f",
   "metadata": {},
   "outputs": [],
   "source": [
    "def generate_roadmap(goal,duration_months,level):\n",
    "\n",
    "    total_weeks = duration_months * 4\n",
    "    \n",
    "    modules = roadmap_data[goal][level]\n",
    "    num_modules = len(modules)\n",
    "    \n",
    "    weeks_per_module = total_weeks // num_modules\n",
    "    extra_weeks = total_weeks % num_modules\n",
    "    \n",
    "    week_start = 1\n",
    "    print(f\"\\n Learning Roadmap for {goal} ({level}, {duration_months} months)\\n\")\n",
    "    \n",
    "    for i, module in enumerate(modules):\n",
    "        allocated_weeks = weeks_per_module + (1 if i < extra_weeks else 0)\n",
    "        week_end = week_start + allocated_weeks - 1\n",
    "        \n",
    "        module_plan = get_module_plan(goal, level, module)\n",
    "        tasks = module_plan.get(\"tasks\", [])\n",
    "        resources = module_plan.get(\"suggested_resources\", [])\n",
    "        \n",
    "        print(f\" {week_start}-{week_end}: {module}\\n\")\n",
    "        \n",
    "        if tasks:\n",
    "            print(\"Tasks:\")\n",
    "            for j, task in enumerate(tasks, start=1):\n",
    "                print(f\"      {j}. {task}\")\n",
    "        \n",
    "        if resources:\n",
    "            print(\"\\n Resources:\")\n",
    "            for r in resources:\n",
    "                print(f\"      - {r}\")\n",
    "        \n",
    "        print(\"\\n\" + \"-\"*60 + \"\\n\")\n",
    "        \n",
    "        week_start = week_end + 1"
   ]
  },
  {
   "cell_type": "markdown",
   "id": "fe24d6d1-3752-4d0e-ace1-2e4816da0b96",
   "metadata": {},
   "source": [
    "# FEASIBILITY CHECK"
   ]
  },
  {
   "cell_type": "code",
   "execution_count": 56,
   "id": "6049743f-9a94-4476-85a6-5b26f18c7278",
   "metadata": {},
   "outputs": [],
   "source": [
    "def evaluate_feasibility(goal,duration_months,level,hours_per_tasks=2):\n",
    "    total_weeks = duration_months * 4\n",
    "    \n",
    "    modules = roadmap_data[goal][level]\n",
    "    \n",
    "    total_tasks = 0\n",
    "    for module in modules:\n",
    "        module_plan = get_module_plan(goal,level,module)\n",
    "        total_tasks += len(module_plan.get(\"tasks\", []))\n",
    "    \n",
    "    total_hours = total_tasks * hours_per_tasks\n",
    "    weekly_hours = total_hours / total_weeks if total_weeks else 0\n",
    "    \n",
    "    print(f\" Feasibility check for {goal}({level},{duration_months} months)\")\n",
    "    print(f\" Total Tasks: {total_tasks}\")\n",
    "    print(f\" Estimated hours required: {total_hours} hrs\")\n",
    "    print(f\" Average Workload: ~{weekly_hours:.1f} hrs/week\")\n",
    "    \n",
    "    \n",
    "    if weekly_hours > 12:\n",
    "        print(\"Warning: This plan may be too heavy. Consider changing the duration of the roadmap\")\n",
    "    elif weekly_hours < 5:\n",
    "        print(\"This plan is too light. You could shorten the duration if you wish\")\n",
    "    else:\n",
    "        print(\"This plan looks balanced and realistic\")"
   ]
  },
  {
   "cell_type": "markdown",
   "id": "61cdf0b7-38b9-438d-9bbe-78fb7ff268a3",
   "metadata": {},
   "source": [
    "# EXAMPLE ROADMAPS"
   ]
  },
  {
   "cell_type": "markdown",
   "id": "b6a7a3fc-8d57-4ae0-b359-12dca8f191fd",
   "metadata": {},
   "source": [
    "## ROADMAP 1"
   ]
  },
  {
   "cell_type": "code",
   "execution_count": 76,
   "id": "d013b523-1584-4947-80b8-fcecb3f9954a",
   "metadata": {},
   "outputs": [
    {
     "name": "stdout",
     "output_type": "stream",
     "text": [
      "\n",
      " Learning Roadmap for Data Science (beginner, 3 months)\n",
      "\n",
      " 1-2: Python Basics\n",
      "\n",
      "Tasks:\n",
      "      1. Install Python + Jupyter; set up environment\n",
      "      2. Learn variables, types, conditionals, loops, functions\n",
      "      3. Practice 30–40 beginner problems (HackerRank/LeetCode easy)\n",
      "      4. Write 2 mini scripts that automate simple tasks\n",
      "\n",
      " Resources:\n",
      "      - Automate the Boring Stuff (Ch 1–6)\n",
      "      - Python Docs: Tutorial\n",
      "      - Real Python: Basics\n",
      "      - https://www.youtube.com/watch?v=rfscVS0vtbw\n",
      "\n",
      "------------------------------------------------------------\n",
      "\n",
      " 3-4: Numpy & Pandas\n",
      "\n",
      "Tasks:\n",
      "      1. Create/reshape arrays; vectorized ops; broadcasting\n",
      "      2. Load CSVs; select/filter/sort; add/drop columns\n",
      "      3. GroupBy, merge/join, pivot, handling missing values\n",
      "      4. Mini exercise: clean a messy dataset end-to-end\n",
      "\n",
      " Resources:\n",
      "      - Kaggle: Pandas Course\n",
      "      - NumPy User Guide (Basics)\n",
      "      - Pandas Getting Started\n",
      "      - https://www.youtube.com/watch?v=vmEHCJofslg\n",
      "\n",
      "------------------------------------------------------------\n",
      "\n",
      " 5-6: Data Visualization\n",
      "\n",
      "Tasks:\n",
      "      1. Matplotlib essentials: line/bar/scatter/hist, axes, labels\n",
      "      2. Plotly basics: interactive charts\n",
      "      3. Choose appropriate chart types; annotate and style clearly\n",
      "      4. Mini EDA: visualize 6–8 insights from a dataset\n",
      "\n",
      " Resources:\n",
      "      - Matplotlib Tutorials\n",
      "      - Plotly Express Guide\n",
      "      - Storytelling with Data (book)\n",
      "      - https://www.youtube.com/watch?v=DAQNHzOcO5A\n",
      "\n",
      "------------------------------------------------------------\n",
      "\n",
      " 7-8: Statistics Fundamentals\n",
      "\n",
      "Tasks:\n",
      "      1. Mean/median/variance/std; distributions (normal/bernoulli)\n",
      "      2. Sampling, CLT intuition\n",
      "      3. Hypothesis testing basics, p-values, confidence intervals\n",
      "      4. Correlation vs causation; simple experiments\n",
      "\n",
      " Resources:\n",
      "      - StatQuest (videos)\n",
      "      - Khan Academy: Statistics\n",
      "      - Think Stats (book)\n",
      "      - https://www.youtube.com/watch?v=xxpc-HPKN28\n",
      "\n",
      "------------------------------------------------------------\n",
      "\n",
      " 9-10: Intro to Machine Learning\n",
      "\n",
      "Tasks:\n",
      "      1. Train/test split; baseline models (LR, KNN, DT)\n",
      "      2. Metrics: accuracy/precision/recall/F1, MAE/RMSE\n",
      "      3. Cross-validation; simple hyperparameter tuning\n",
      "      4. Mini project: tabular classification or regression\n",
      "\n",
      " Resources:\n",
      "      - scikit-learn: Getting Started\n",
      "      - Kaggle: Intro to ML\n",
      "      - Hands-On ML (selected chapters)\n",
      "      - https://www.youtube.com/watch?v=7eh4d6sabA0\n",
      "\n",
      "------------------------------------------------------------\n",
      "\n",
      " 11-12: Projects\n",
      "\n",
      "Tasks:\n",
      "      1. Pick a public dataset + define clear question\n",
      "      2. EDA → feature selection → model → evaluation\n",
      "      3. Write a README with results and limitations\n",
      "      4. Publish on GitHub; include visuals\n",
      "\n",
      " Resources:\n",
      "      - Kaggle Datasets\n",
      "      - Cookiecutter Data Science (structure)\n",
      "      - GitHub Guides: README best practices\n",
      "      - https://www.youtube.com/watch?v=5rNu16O3YNE\n",
      "\n",
      "------------------------------------------------------------\n",
      "\n"
     ]
    }
   ],
   "source": [
    "generate_roadmap(\"Data Science\", 3, \"beginner\")"
   ]
  },
  {
   "cell_type": "code",
   "execution_count": 78,
   "id": "d6d249a7-797b-4f2e-85e7-2550dce228cf",
   "metadata": {},
   "outputs": [
    {
     "name": "stdout",
     "output_type": "stream",
     "text": [
      " Feasibility check for Data Science(beginner,3 months)\n",
      " Total Tasks: 24\n",
      " Estimated hours required: 48 hrs\n",
      " Average Workload: ~4.0 hrs/week\n",
      "This plan is too light. You could shorten the duration if you wish\n"
     ]
    }
   ],
   "source": [
    "evaluate_feasibility(\"Data Science\", 3, \"beginner\")"
   ]
  },
  {
   "cell_type": "markdown",
   "id": "a4c0ab24-bfcf-4230-9bfa-1031971f10f5",
   "metadata": {},
   "source": [
    "## ROADMAP 2"
   ]
  },
  {
   "cell_type": "code",
   "execution_count": 81,
   "id": "94fa2f38-d62b-46d3-aeb6-469bbbd2731a",
   "metadata": {},
   "outputs": [
    {
     "name": "stdout",
     "output_type": "stream",
     "text": [
      "\n",
      " Learning Roadmap for Web Development (beginner, 2 months)\n",
      "\n",
      " 1-2: HTML, CSS Basics\n",
      "\n",
      "Tasks:\n",
      "      1. HTML structure + semantic tags\n",
      "      2. CSS selectors, box model, spacing\n",
      "      3. Flexbox essentials; clone a simple landing page\n",
      "\n",
      " Resources:\n",
      "      - MDN: HTML\n",
      "      - MDN: CSS\n",
      "      - Flexbox Froggy\n",
      "      - https://www.youtube.com/watch?v=UB1O30fR-EE\n",
      "\n",
      "------------------------------------------------------------\n",
      "\n",
      " 3-4: JavaScript Fundamentals\n",
      "\n",
      "Tasks:\n",
      "      1. Variables, types, functions, scope\n",
      "      2. DOM selection/manipulation; events\n",
      "      3. Build a small interactive widget (e.g., todo list)\n",
      "\n",
      " Resources:\n",
      "      - MDN: JavaScript Guide\n",
      "      - You Don’t Know JS (selected)\n",
      "      - JavaScript30 (exercises)\n",
      "      - https://www.youtube.com/watch?v=PkZNo7MFNFg\n",
      "\n",
      "------------------------------------------------------------\n",
      "\n",
      " 5-5: Responsive Design\n",
      "\n",
      "Tasks:\n",
      "      1. Mobile-first workflow; media queries\n",
      "      2. CSS Grid basics; common layouts\n",
      "      3. Refactor a page to be responsive across breakpoints\n",
      "\n",
      " Resources:\n",
      "      - MDN: Responsive Design\n",
      "      - CSS Grid Garden\n",
      "      - https://www.youtube.com/watch?v=srvUrASNj0s\n",
      "\n",
      "------------------------------------------------------------\n",
      "\n",
      " 6-6: Intro to Backend (Python/Node.js)\n",
      "\n",
      "Tasks:\n",
      "      1. REST basics; routes; request/response\n",
      "      2. Build a tiny API with Flask or Express\n",
      "      3. Return JSON; test endpoints with Postman\n",
      "\n",
      " Resources:\n",
      "      - Flask or Express official docs\n",
      "      - Postman Learning Center\n",
      "      - https://www.youtube.com/watch?v=Z1RJmh_OqeA\n",
      "\n",
      "------------------------------------------------------------\n",
      "\n",
      " 7-7: Databases\n",
      "\n",
      "Tasks:\n",
      "      1. Relational vs NoSQL concepts\n",
      "      2. CRUD with SQL (SQLite/Postgres)\n",
      "      3. Connect backend to DB; read/write endpoints\n",
      "\n",
      " Resources:\n",
      "      - SQLBolt\n",
      "      - SQLite Docs / Postgres Tutorial\n",
      "      - https://www.youtube.com/watch?v=HXV3zeQKqGY\n",
      "\n",
      "------------------------------------------------------------\n",
      "\n",
      " 8-8: Mini Project\n",
      "\n",
      "Tasks:\n",
      "      1. Fullstack app: auth-less MVP with 2–3 features\n",
      "      2. Deploy (Render/Netlify/Vercel)\n",
      "      3. Write README + screenshots\n",
      "\n",
      " Resources:\n",
      "      - Vercel/Netlify Docs\n",
      "      - Render Docs\n",
      "      - https://www.youtube.com/watch?v=jQoj6cfyC7I\n",
      "\n",
      "------------------------------------------------------------\n",
      "\n"
     ]
    }
   ],
   "source": [
    "generate_roadmap(\"Web Development\", 2, \"beginner\")"
   ]
  },
  {
   "cell_type": "code",
   "execution_count": 83,
   "id": "848edfb1-4fa3-4066-8563-f822ff251628",
   "metadata": {},
   "outputs": [
    {
     "name": "stdout",
     "output_type": "stream",
     "text": [
      " Feasibility check for Web Development(beginner,2 months)\n",
      " Total Tasks: 18\n",
      " Estimated hours required: 36 hrs\n",
      " Average Workload: ~4.5 hrs/week\n",
      "This plan is too light. You could shorten the duration if you wish\n"
     ]
    }
   ],
   "source": [
    "evaluate_feasibility(\"Web Development\", 2, \"beginner\")"
   ]
  },
  {
   "cell_type": "markdown",
   "id": "4255d189-fbb9-477e-b4db-04d9a3633cb9",
   "metadata": {},
   "source": [
    "## ROADMAP 3"
   ]
  },
  {
   "cell_type": "code",
   "execution_count": 88,
   "id": "796e74e9-01d1-43da-9e6e-cfabf3723684",
   "metadata": {},
   "outputs": [],
   "source": [
    "# NOTE:\n",
    "# The roadmap may look a bit empty because in our current tasks_map.json\n",
    "# we only detailed beginner-level modules with tasks + resources.\n",
    "# Intermediate/advanced levels are included in roadmap_data.json,\n",
    "# but their detailed tasks/resources have not been filled yet."
   ]
  },
  {
   "cell_type": "code",
   "execution_count": 90,
   "id": "bc5b5d96-e6b5-40cc-93e3-c766100521e7",
   "metadata": {},
   "outputs": [
    {
     "name": "stdout",
     "output_type": "stream",
     "text": [
      "\n",
      " Learning Roadmap for Data Science (intermediate, 6 months)\n",
      "\n",
      " 1-6: Advanced Machine Learning\n",
      "\n",
      "\n",
      "------------------------------------------------------------\n",
      "\n",
      " 7-12: Feature Engineering\n",
      "\n",
      "\n",
      "------------------------------------------------------------\n",
      "\n",
      " 13-18: Model Deployment\n",
      "\n",
      "\n",
      "------------------------------------------------------------\n",
      "\n",
      " 19-24: Capstone Project\n",
      "\n",
      "\n",
      "------------------------------------------------------------\n",
      "\n"
     ]
    }
   ],
   "source": [
    "generate_roadmap(\"Data Science\", 6, \"intermediate\")"
   ]
  },
  {
   "cell_type": "code",
   "execution_count": 92,
   "id": "f4103341-ffb5-4afb-adc2-61f1408da158",
   "metadata": {},
   "outputs": [
    {
     "name": "stdout",
     "output_type": "stream",
     "text": [
      " Feasibility check for Data Science(intermediate,6 months)\n",
      " Total Tasks: 0\n",
      " Estimated hours required: 0 hrs\n",
      " Average Workload: ~0.0 hrs/week\n",
      "This plan is too light. You could shorten the duration if you wish\n"
     ]
    }
   ],
   "source": [
    "evaluate_feasibility(\"Data Science\", 6, \"intermediate\")"
   ]
  }
 ],
 "metadata": {
  "kernelspec": {
   "display_name": "Python 3 (ipykernel)",
   "language": "python",
   "name": "python3"
  },
  "language_info": {
   "codemirror_mode": {
    "name": "ipython",
    "version": 3
   },
   "file_extension": ".py",
   "mimetype": "text/x-python",
   "name": "python",
   "nbconvert_exporter": "python",
   "pygments_lexer": "ipython3",
   "version": "3.12.2"
  }
 },
 "nbformat": 4,
 "nbformat_minor": 5
}
